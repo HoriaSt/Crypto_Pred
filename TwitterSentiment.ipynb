{
 "cells": [
  {
   "cell_type": "markdown",
   "metadata": {},
   "source": [
    "# Twitter Data Processing & Sentiment Analysis\n",
    "\n",
    "Parts of the code in this notebook may be taken from:\n",
    "- Kirrane, S., \"Data Processing II\" Course Materials\n",
    "- Datacamp, \"Introduction to PySpark\" Course Materials\n",
    "\n",
    "\n",
    "## Setting up the Spark Session & Installing Packages"
   ]
  },
  {
   "cell_type": "code",
   "execution_count": 1,
   "metadata": {},
   "outputs": [],
   "source": [
    "# Import the os module \n",
    "import os\n",
    "\n",
    "# Set the PYSPARK_SUBMIT_ARGS to the appropriate spark-sql-kafka package\n",
    "os.environ['PYSPARK_SUBMIT_ARGS'] = '--packages org.apache.spark:spark-sql-kafka-0-10_2.12:3.0.1 pyspark-shell'"
   ]
  },
  {
   "cell_type": "code",
   "execution_count": 2,
   "metadata": {},
   "outputs": [
    {
     "name": "stdout",
     "output_type": "stream",
     "text": [
      "Requirement already satisfied: findspark in /opt/conda/lib/python3.8/site-packages (1.4.2)\n"
     ]
    }
   ],
   "source": [
    "# Install a pip package in the current Jupyter kernel\n",
    "import sys\n",
    "!{sys.executable} -m pip install findspark\n",
    "\n",
    "# Import the findspark module \n",
    "import findspark\n",
    "\n",
    "# Initialize via the full spark path\n",
    "findspark.init(\"/usr/local/spark/\")"
   ]
  },
  {
   "cell_type": "code",
   "execution_count": 3,
   "metadata": {},
   "outputs": [
    {
     "name": "stdout",
     "output_type": "stream",
     "text": [
      "Requirement already satisfied: pyspark in /opt/conda/lib/python3.8/site-packages (3.0.1)\n",
      "Requirement already satisfied: py4j==0.10.9 in /opt/conda/lib/python3.8/site-packages (from pyspark) (0.10.9)\n"
     ]
    }
   ],
   "source": [
    "# Install a pip package in the current Jupyter kernel\n",
    "import sys\n",
    "!{sys.executable} -m pip install pyspark\n",
    "\n",
    "# Import the SparkSession and SQLContext modules\n",
    "from pyspark.sql import SparkSession\n",
    "from pyspark.sql.functions import *\n",
    "from pyspark.sql.types import *\n",
    "\n",
    "# Build the SparkSession\n",
    "spark = SparkSession.builder \\\n",
    "   .master(\"local\") \\\n",
    "   .appName(\"Processing Accounts\") \\\n",
    "   .config(\"spark.executor.memory\", \"1gb\") \\\n",
    "   .getOrCreate()\n",
    "   \n",
    "# Main entry point for Spark functionality. A SparkContext represents the\n",
    "# connection to a Spark cluster, and can be used to create :class:`RDD` and\n",
    "# broadcast variables on that cluster.      \n",
    "sc = spark.sparkContext"
   ]
  },
  {
   "cell_type": "code",
   "execution_count": 4,
   "metadata": {},
   "outputs": [
    {
     "name": "stdout",
     "output_type": "stream",
     "text": [
      "Requirement already satisfied: nltk in /opt/conda/lib/python3.8/site-packages (3.5)\n",
      "Requirement already satisfied: click in /opt/conda/lib/python3.8/site-packages (from nltk) (7.1.2)\n",
      "Requirement already satisfied: regex in /opt/conda/lib/python3.8/site-packages (from nltk) (2020.11.13)\n",
      "Requirement already satisfied: tqdm in /opt/conda/lib/python3.8/site-packages (from nltk) (4.51.0)\n",
      "Requirement already satisfied: joblib in /opt/conda/lib/python3.8/site-packages (from nltk) (0.17.0)\n",
      "Requirement already satisfied: langid in /opt/conda/lib/python3.8/site-packages (1.1.6)\n",
      "Requirement already satisfied: numpy in /opt/conda/lib/python3.8/site-packages (from langid) (1.19.4)\n"
     ]
    },
    {
     "name": "stderr",
     "output_type": "stream",
     "text": [
      "[nltk_data] Downloading package averaged_perceptron_tagger to\n",
      "[nltk_data]     /home/jovyan/nltk_data...\n",
      "[nltk_data]   Package averaged_perceptron_tagger is already up-to-\n",
      "[nltk_data]       date!\n",
      "[nltk_data] Downloading package stopwords to /home/jovyan/nltk_data...\n",
      "[nltk_data]   Package stopwords is already up-to-date!\n",
      "[nltk_data] Downloading package wordnet to /home/jovyan/nltk_data...\n",
      "[nltk_data]   Package wordnet is already up-to-date!\n"
     ]
    },
    {
     "data": {
      "text/plain": [
       "True"
      ]
     },
     "execution_count": 4,
     "metadata": {},
     "output_type": "execute_result"
    }
   ],
   "source": [
    "# Install a pip package in the current Jupyter kernel\n",
    "import sys\n",
    "!{sys.executable} -m pip install nltk\n",
    "\n",
    "# Install a pip package in the current Jupyter kernel\n",
    "import sys\n",
    "!{sys.executable} -m pip install langid\n",
    "\n",
    "# Download averaged_perceptron_tagger from the nltk\n",
    "import nltk\n",
    "nltk.download('averaged_perceptron_tagger')\n",
    "\n",
    "# Download stopwords from the nltk\n",
    "import nltk\n",
    "nltk.download('stopwords')\n",
    "\n",
    "# Download wordnet from the nltk\n",
    "import nltk\n",
    "nltk.download('wordnet')"
   ]
  },
  {
   "cell_type": "markdown",
   "metadata": {},
   "source": [
    "### Register all the functions in Preproc with Spark Context"
   ]
  },
  {
   "cell_type": "code",
   "execution_count": 5,
   "metadata": {},
   "outputs": [],
   "source": [
    "# Import the udf, StringType, and pp modules\n",
    "from pyspark.sql.functions import udf\n",
    "from pyspark.sql.types import StringType\n",
    "import preproc as pp\n",
    "\n",
    "\n",
    "# Creates a user defined function (UDF).\n",
    "# Stop words usually refer to the most common words in a language, there is no single universal list of stop words used\n",
    "# by all natural language processing tools.\n",
    "# Reduces Dimensionality\n",
    "# removes stop words of a single Tweets (cleaned_str/row/document)\n",
    "remove_stops_udf = udf(pp.remove_stops, StringType())\n",
    "\n",
    "# Creates a user defined function (UDF).\n",
    "# catch-all to remove other 'words' that I felt didn't add a lot of value\n",
    "# Reduces Dimensionality, gets rid of a lot of unique urls\n",
    "remove_features_udf = udf(pp.remove_features, StringType())\n",
    "\n",
    "# Creates a user defined function (UDF).\n",
    "# Process of classifying words into their parts of speech and labeling them accordingly is known as part-of-speech\n",
    "# tagging, POS-tagging, or simply tagging. Parts of speech are also known as word classes or lexical categories. The\n",
    "# collection of tags used for a particular task is known as a tagset. Our emphasis in this chapter is on exploiting\n",
    "# tags, and tagging text automatically.\n",
    "# http://www.nltk.org/book/ch05.html\n",
    "tag_and_remove_udf = udf(pp.tag_and_remove, StringType())\n",
    "\n",
    "# Creates a user defined function (UDF).\n",
    "# Tweets are going to use different forms of a word, such as organize, organizes, and\n",
    "# organizing. Additionally, there are families of derivationally related words with similar meanings, such as democracy,\n",
    "# democratic, and democratization. In many situations, it seems as if it would be useful for a search for one of these\n",
    "# words to return documents that contain another word in the set.\n",
    "# Reduces Dimensionality and boosts numerical measures like TFIDF\n",
    "# http://nlp.stanford.edu/IR-book/html/htmledition/stemming-and-lemmatization-1.html\n",
    "# lemmatization of a single Tweets (cleaned_str/row/document)\n",
    "lemmatize_udf = udf(pp.lemmatize, StringType())\n",
    "\n",
    "# Creates a user defined function (UDF).\n",
    "# check to see if a row only contains whitespace\n",
    "check_blanks_udf = udf(pp.check_blanks, StringType())\n"
   ]
  },
  {
   "cell_type": "markdown",
   "metadata": {},
   "source": [
    "## Pre-Processing\n",
    "\n",
    "#### Additional sources:\n",
    "- Migration Guide: SQL, Datasets and DataFrame—Spark 3.0.1 Documentation. (n.d.). Retrieved 8 February 2021, from https://spark.apache.org/docs/latest/sql-migration-guide.html#query-engine\n"
   ]
  },
  {
   "cell_type": "code",
   "execution_count": 7,
   "metadata": {},
   "outputs": [],
   "source": [
    "try:\n",
    "    # loading the all of the streamed tweets to the app\n",
    "    df = spark \\\n",
    "      .read \\\n",
    "      .format(\"kafka\") \\\n",
    "      .option(\"kafka.bootstrap.servers\", \"localhost:9092\") \\\n",
    "      .option(\"subscribe\", \"Stream_accounts\") \\\n",
    "      .load()\n",
    "    df = df.selectExpr(\"CAST(value AS STRING)\")\n",
    "\n",
    "    # extracting the json data into a dataframe\n",
    "    text_tweets = df.select(df.value, json_tuple(df.value, 'created_at','text').alias('created_at', 'text'))\n",
    "\n",
    "    # selecting the relevant columns for our further analysis\n",
    "    data_df = text_tweets.select('created_at', 'text')\n",
    "    \n",
    "except:\n",
    "    # Print the error\n",
    "    print(\"Unexpected error:\", sys.exc_info()[0])     "
   ]
  },
  {
   "cell_type": "code",
   "execution_count": 8,
   "metadata": {},
   "outputs": [
    {
     "name": "stdout",
     "output_type": "stream",
     "text": [
      "+--------------------+--------------------+--------+\n",
      "|          created_at|                text|is_blank|\n",
      "+--------------------+--------------------+--------+\n",
      "|Wed Feb 03 08:27:...|dear elon release...|   False|\n",
      "|Wed Feb 03 08:25:...|haha guess bitcoi...|   False|\n",
      "|Tue Feb 02 19:12:...|honesty matter fa...|   False|\n",
      "|Tue Feb 02 19:11:...|carry world versa...|   False|\n",
      "|Tue Feb 02 17:58:...|               lmfao|   False|\n",
      "|Tue Feb 02 17:56:...|bitcoin eth amp u...|   False|\n",
      "|Tue Feb 02 19:12:...|    meme time please|   False|\n",
      "|Tue Feb 02 17:59:...|         stay please|   False|\n",
      "|Wed Feb 03 08:24:...|thanks friend sha...|   False|\n",
      "|Wed Feb 03 08:27:...|thanks tesla team...|   False|\n",
      "|Tue Feb 02 19:14:...|possible xrp mark...|   False|\n",
      "|Tue Feb 02 17:54:...|   supporter bitcoin|   False|\n",
      "|Tue Feb 02 19:14:...|gamestop put bitc...|   False|\n",
      "|Tue Feb 02 19:13:...|miss know digital...|   False|\n",
      "|Tue Feb 02 17:57:...|stay busy big daw...|   False|\n",
      "|Tue Feb 02 17:55:...|seem realize late...|   False|\n",
      "|Tue Feb 02 19:10:...|thanks best blog ...|   False|\n",
      "|Tue Feb 02 19:14:...|hello sir uncurba...|   False|\n",
      "|Tue Feb 02 17:56:...|         jst btt sun|   False|\n",
      "|Tue Feb 02 19:12:...|man elon cool thi...|   False|\n",
      "+--------------------+--------------------+--------+\n",
      "only showing top 20 rows\n",
      "\n"
     ]
    }
   ],
   "source": [
    "try:\n",
    "    # Returns a new :class:`DataFrame` by adding a column or replacing the\n",
    "    # existing column that has the same name.\n",
    "    # Use 'remove_stops_udf' remove stop words to reduce dimensionality\n",
    "    #rm_stops_df = en_df.withColumn(\"stop_text\", remove_stops_udf(en_df[\"text\"]))\n",
    "    data_df = data_df.withColumn(\"text\", remove_stops_udf(data_df[\"text\"]))\n",
    "\n",
    "    # Returns a new :class:`DataFrame` by adding a column or replacing the\n",
    "    # existing column that has the same name.\n",
    "    # Use 'remove_features_udf' to remove other non essential words, think of it as my personal stop word list\n",
    "    #rm_features_df = rm_stops_df.withColumn(\"feat_text\", remove_features_udf(rm_stops_df[\"stop_text\"]))\n",
    "    data_df = data_df.withColumn(\"text\", remove_features_udf(data_df[\"text\"]))\n",
    "\n",
    "    # Returns a new :class:`DataFrame` by adding a column or replacing the\n",
    "    # existing column that has the same name.\n",
    "    # Use 'tag_and_remove_udf' to tag the words remaining and keep only Nouns, Verbs and Adjectives\n",
    "    #rm_features_df = rm_stops_df.withColumn(\"feat_text\", remove_features_udf(rm_stops_df[\"stop_text\"]))\n",
    "    data_df = data_df.withColumn(\"text\", tag_and_remove_udf(data_df[\"text\"]))\n",
    "\n",
    "    # Returns a new :class:`DataFrame` by adding a column or replacing the\n",
    "    # existing column that has the same name.\n",
    "    # Use lemmatize_udf' to lemmatize the remaining words in order to reduce dimensionality & boost measures\n",
    "    #lemm_df = tagged_df.withColumn(\"lemm_text\", lemmatize_udf(tagged_df[\"tagged_text\"]))\n",
    "    data_df = data_df.withColumn(\"text\", lemmatize_udf(data_df[\"text\"]))\n",
    "\n",
    "    # Returns a new :class:`DataFrame` by adding a column or replacing the\n",
    "    # existing column that has the same name.\n",
    "    # Use 'check_blanks_udf' to remove all rows containing only blank spaces\n",
    "    #check_blanks_df = lemm_df.withColumn(\"is_blank\", check_blanks_udf(lemm_df[\"lemm_text\"]))\n",
    "    #no_blanks_df = check_blanks_df.filter(check_blanks_df[\"is_blank\"] == \"False\")\n",
    "    data_df = data_df.withColumn(\"is_blank\", check_blanks_udf(data_df[\"text\"]))\n",
    "    data_df = data_df.filter(data_df[\"is_blank\"] == \"False\")\n",
    "\n",
    "    # Return a new :class:`DataFrame` with duplicate rows removed,\n",
    "    # optionally only considering certain columns.\n",
    "    data_df = data_df.dropDuplicates(['text'])\n",
    "\n",
    "    data_df.show()\n",
    "    \n",
    "except:\n",
    "    # Print the error\n",
    "    print(\"Unexpected error:\", sys.exc_info()[0])  "
   ]
  },
  {
   "cell_type": "code",
   "execution_count": null,
   "metadata": {},
   "outputs": [],
   "source": [
    "# converting created_at column values to timestamp\n",
    "from pyspark.sql.functions import to_timestamp\n",
    "from pyspark.sql.functions import col\n",
    "\n",
    "try:\n",
    "    spark.sql(\"set spark.sql.legacy.timeParserPolicy=LEGACY\")\n",
    "\n",
    "    data_df = data_df.withColumn(\"created_at\",to_timestamp(col(\"created_at\"),\"EEE MMM dd HH:mm:ss Z yyyy\"))\n",
    "    \n",
    "except:\n",
    "    # Print the error\n",
    "    print(\"Unexpected error:\", sys.exc_info()[0])  "
   ]
  },
  {
   "cell_type": "code",
   "execution_count": null,
   "metadata": {},
   "outputs": [],
   "source": [
    "try:\n",
    "    #filtering by currency and saving in different dataframes\n",
    "    tweets_btc = (data_df.filter((data_df.text.contains('bitcoin') | data_df.text.contains('btc')))).select('text', 'created_at')\n",
    "    tweets_eth = (data_df.filter((data_df.text.contains('etherum') | data_df.text.contains('eth')))).select('text', 'created_at')\n",
    "    tweets_link = (data_df.filter((data_df.text.contains('chainlink') | data_df.text.contains('link')))).select('text', 'created_at')\n",
    "    tweets_doge = (data_df.filter((data_df.text.contains('dogecoin') | data_df.text.contains('doge')))).select('text', 'created_at')\n",
    "    tweets_ltc = (data_df.filter((data_df.text.contains('litecoin') | data_df.text.contains('ltc')))).select('text', 'created_at')\n",
    "    \n",
    "except:\n",
    "    # Print the error\n",
    "    print(\"Unexpected error:\", sys.exc_info()[0])  "
   ]
  },
  {
   "cell_type": "code",
   "execution_count": null,
   "metadata": {},
   "outputs": [],
   "source": [
    "# commented: showing the preprocessed dataframes\n",
    "\n",
    "# tweets_btc.show()\n",
    "# tweets_eth.show()\n",
    "# tweets_link.show()\n",
    "# tweets_doge.show()\n",
    "# tweets_ltc.show()"
   ]
  },
  {
   "cell_type": "markdown",
   "metadata": {},
   "source": [
    "## VADER Sentiment Analysis\n",
    "\n",
    "#### License, copyright and requested citation:\n",
    "- [The MIT License (MIT)](https://github.com/cjhutto/vaderSentiment/blob/master/LICENSE.txt)\n",
    "- Copyright (c) 2016 C.J. Hutto\n",
    "- Hutto, C.J. & Gilbert, E.E. (2014). VADER: A Parsimonious Rule-based Model for Sentiment Analysis of Social Media Text. Eighth International Conference on Weblogs and Social Media (ICWSM-14). Ann Arbor, MI, June 2014.\n",
    "\n",
    "#### Additional Sources:\n",
    "- Panchal, S. (2020, June 19). Sentiment Analysis with VADER- Label the Unlabeled Data. Medium. https://medium.com/analytics-vidhya/sentiment-analysis-with-vader-label-the-unlabeled-data-8dd785225166\n"
   ]
  },
  {
   "cell_type": "code",
   "execution_count": null,
   "metadata": {},
   "outputs": [],
   "source": [
    "# Download VADER sentiment from the nltk\n",
    "import nltk\n",
    "nltk.download('vader_lexicon')\n",
    "\n",
    "# Importing the function \n",
    "from nltk.sentiment.vader import SentimentIntensityAnalyzer\n",
    "\n",
    "# Creating an instance\n",
    "vd = SentimentIntensityAnalyzer()"
   ]
  },
  {
   "cell_type": "code",
   "execution_count": null,
   "metadata": {},
   "outputs": [],
   "source": [
    "from pyspark.sql.functions import udf\n",
    "\n",
    "# creating a custom function: applying the sentiment analysis, retrieving the weighted score\n",
    "#  after that rewriting the score to 1 (positive), -1 (negative) or 0 (neutral) to simplify & amplify results\n",
    "def sentiment_score(text):\n",
    "    score = vd.polarity_scores(text).get('compound')\n",
    "    if score < -0.01:\n",
    "        score = -1\n",
    "    if score > 0.01:\n",
    "        score = 1\n",
    "    else:\n",
    "        score = 0\n",
    "    return score\n",
    "\n",
    "# creating a user defined function (UDF), from the custom function\n",
    "sentiment_score_udf = udf(sentiment_score, IntegerType())"
   ]
  },
  {
   "cell_type": "code",
   "execution_count": null,
   "metadata": {},
   "outputs": [],
   "source": [
    "try:\n",
    "    # applying the custom sentiment function to all dataframes, saving results in a new column\n",
    "    tweets_btc = tweets_btc.withColumn(\"sentiment\", sentiment_score_udf(tweets_btc[\"text\"]))\n",
    "    tweets_eth = tweets_eth.withColumn(\"sentiment\", sentiment_score_udf(tweets_eth[\"text\"]))\n",
    "    tweets_link = tweets_link.withColumn(\"sentiment\", sentiment_score_udf(tweets_link[\"text\"]))\n",
    "    tweets_doge = tweets_doge.withColumn(\"sentiment\", sentiment_score_udf(tweets_doge[\"text\"]))\n",
    "    tweets_ltc = tweets_ltc.withColumn(\"sentiment\", sentiment_score_udf(tweets_ltc[\"text\"]))\n",
    "    \n",
    "except:\n",
    "    # Print the error\n",
    "    print(\"Unexpected error:\", sys.exc_info()[0])  "
   ]
  },
  {
   "cell_type": "code",
   "execution_count": 14,
   "metadata": {},
   "outputs": [
    {
     "name": "stdout",
     "output_type": "stream",
     "text": [
      "+--------------------+-------------------+\n",
      "|              window|     avg(sentiment)|\n",
      "+--------------------+-------------------+\n",
      "|[2021-02-02 17:43...|                1.0|\n",
      "|[2021-02-02 17:53...|                0.4|\n",
      "|[2021-02-02 17:54...|0.16666666666666666|\n",
      "|[2021-02-02 17:55...|                0.2|\n",
      "|[2021-02-02 17:56...|                0.4|\n",
      "|[2021-02-02 17:57...|               0.25|\n",
      "|[2021-02-02 19:10...|                0.0|\n",
      "|[2021-02-02 19:11...|                0.0|\n",
      "|[2021-02-02 19:12...|                0.0|\n",
      "|[2021-02-02 19:13...|               0.25|\n",
      "|[2021-02-02 19:14...| 0.3333333333333333|\n",
      "|[2021-02-03 08:25...|                0.6|\n",
      "|[2021-02-03 08:26...|                0.0|\n",
      "|[2021-02-03 08:27...|                0.5|\n",
      "+--------------------+-------------------+\n",
      "\n"
     ]
    }
   ],
   "source": [
    "try:\n",
    "    # grouping the created dataframes by timestamp (each minute) with the average sentiment score and sorting by timestamp\n",
    "    tweets_btc_grouped = tweets_btc.groupBy(window(\"created_at\", \"1 minutes\")).avg(\"sentiment\").sort('window')\n",
    "    tweets_eth_grouped = tweets_eth.groupBy(window(\"created_at\", \"1 minutes\")).avg(\"sentiment\").sort('window')\n",
    "    tweets_link_grouped = tweets_link.groupBy(window(\"created_at\", \"1 minutes\")).avg(\"sentiment\").sort('window')\n",
    "    tweets_doge_grouped = tweets_doge.groupBy(window(\"created_at\", \"1 minutes\")).avg(\"sentiment\").sort('window')\n",
    "    tweets_ltc_grouped = tweets_ltc.groupBy(window(\"created_at\", \"1 minutes\")).avg(\"sentiment\").sort('window')\n",
    "\n",
    "    # commented: showing the created dataframe\n",
    "    #tweets_btc_grouped.show()\n",
    "    \n",
    "except:\n",
    "    # Print the error\n",
    "    print(\"Unexpected error:\", sys.exc_info()[0])  "
   ]
  },
  {
   "cell_type": "code",
   "execution_count": 15,
   "metadata": {},
   "outputs": [],
   "source": [
    "try:\n",
    "    # splitting the window column inro separate ones for visualizations\n",
    "    tweets_btc_grouped = tweets_btc_grouped.withColumn(\"start\", col('window')['start']).withColumn(\"end\", col('window')['end']).drop('window')\n",
    "    tweets_eth_grouped = tweets_eth_grouped.withColumn(\"start\", col('window')['start']).withColumn(\"end\", col('window')['end']).drop('window')\n",
    "    tweets_link_grouped = tweets_link_grouped.withColumn(\"start\", col('window')['start']).withColumn(\"end\", col('window')['end']).drop('window')\n",
    "    tweets_doge_grouped = tweets_doge_grouped.withColumn(\"start\", col('window')['start']).withColumn(\"end\", col('window')['end']).drop('window')\n",
    "    tweets_ltc_grouped = tweets_ltc_grouped.withColumn(\"start\", col('window')['start']).withColumn(\"end\", col('window')['end']).drop('window')\n",
    "\n",
    "    # commented: showing the created dataframe\n",
    "    #tweets_btc_grouped.show()\n",
    "    \n",
    "except:\n",
    "    # Print the error\n",
    "    print(\"Unexpected error:\", sys.exc_info()[0])  "
   ]
  },
  {
   "cell_type": "code",
   "execution_count": 26,
   "metadata": {},
   "outputs": [
    {
     "name": "stdout",
     "output_type": "stream",
     "text": [
      "Unexpected error: <class 'KeyboardInterrupt'>\n"
     ]
    }
   ],
   "source": [
    "try:\n",
    "    # saving the results of the sentiment analysis in a csv (to be used for ML)\n",
    "    tweets_btc_grouped.toPandas().to_csv('sentiment_btc.csv')\n",
    "\n",
    "except:\n",
    "    # Print the error\n",
    "    print(\"Unexpected error:\", sys.exc_info()[0])  "
   ]
  },
  {
   "cell_type": "markdown",
   "metadata": {},
   "source": [
    "## Visualisations"
   ]
  },
  {
   "cell_type": "code",
   "execution_count": 17,
   "metadata": {},
   "outputs": [],
   "source": [
    "import pandas as pd\n",
    "try:\n",
    "    # Calculating the average sentiment score for each of the cryptocurrencies and converting to Pandas dataframe for easier access\n",
    "    tweets_btc_grouped = tweets_btc_grouped.groupBy().avg(\"avg(sentiment)\").toPandas()\n",
    "    tweets_eth_grouped = tweets_eth_grouped.groupBy().avg(\"avg(sentiment)\").toPandas()\n",
    "    tweets_link_grouped = tweets_link_grouped.groupBy().avg(\"avg(sentiment)\").toPandas()\n",
    "    tweets_doge_grouped = tweets_doge_grouped.groupBy().avg(\"avg(sentiment)\").toPandas()\n",
    "    tweets_ltc_grouped = tweets_ltc_grouped.groupBy().avg(\"avg(sentiment)\").toPandas()\n",
    "    # Putting all the data together\n",
    "    grouped_data = {'Cryptocurrency':['BTC','ETH','LINK','DOGE','LTC'],\n",
    "                'Sentiment':[tweets_btc_grouped.iat[0,0],tweets_eth_grouped.iat[0,0],tweets_link_grouped.iat[0,0],tweets_doge_grouped.iat[0,0],tweets_ltc_grouped.iat[0,0]]}\n",
    "    # Creating the Pandas dataframe for further visualisations\n",
    "    grouped_df = pd.DataFrame(grouped_data, columns = ['Cryptocurrency', 'Sentiment'])\n",
    "\n",
    "    # commented: showing the created dataframe\n",
    "    #print(grouped_df)\n",
    "    \n",
    "except:\n",
    "    # Print the error\n",
    "    print(\"Unexpected error:\", sys.exc_info()[0]) "
   ]
  },
  {
   "cell_type": "code",
   "execution_count": 18,
   "metadata": {},
   "outputs": [
    {
     "data": {
      "image/png": "[encoded data removed]",
      "text/plain": [
       "<Figure size 864x576 with 1 Axes>"
      ]
     },
     "metadata": {},
     "output_type": "display_data"
    }
   ],
   "source": [
    "import matplotlib.pyplot as plt\n",
    "import seaborn as sns\n",
    "\n",
    "# to have a nicer background on the plot\n",
    "sns.set(style = \"whitegrid\")\n",
    "\n",
    "# first we create a figure and the axes\n",
    "fig, ax = plt.subplots(figsize = (12,8))\n",
    "\n",
    "# filling the figure and axes\n",
    "ax.bar(grouped_df[\"Cryptocurrency\"][0], grouped_df[\"Sentiment\"][0], color = \"gainsboro\", label = \"BTC\")\n",
    "ax.bar(grouped_df[\"Cryptocurrency\"][1], grouped_df[\"Sentiment\"][1], color = \"khaki\", label = \"ETH\")\n",
    "ax.bar(grouped_df[\"Cryptocurrency\"][2], grouped_df[\"Sentiment\"][2], color = \"lightblue\", label = \"LINK\")\n",
    "ax.bar(grouped_df[\"Cryptocurrency\"][3], grouped_df[\"Sentiment\"][3], color = \"palegreen\", label = \"DOGE\")\n",
    "ax.bar(grouped_df[\"Cryptocurrency\"][4], grouped_df[\"Sentiment\"][4], color = \"lightsalmon\", label = \"LTC\")\n",
    "\n",
    "# setting the limit of the y-axis, so that we can also have the '1' tick label, otherwise we would have only until '0.8'\n",
    "ax.set_ylim([0, 1])\n",
    "\n",
    "# setting labels for x and y axes\n",
    "ax.set_ylabel(\"Polarity (0 = neutral; 1 = positive)\")\n",
    "ax.set_xlabel(\"Cryptocurrencies\")\n",
    "\n",
    "# adding the title to the plot\n",
    "plt.title('Average polarity of Tweets dealing with different Cryptocurrencies')\n",
    "\n",
    "# to have a nicer output\n",
    "fig.tight_layout()\n",
    "\n",
    "plt.show()"
   ]
  }
 ],
 "metadata": {
  "kernelspec": {
   "display_name": "Python 3",
   "language": "python",
   "name": "python3"
  },
  "language_info": {
   "codemirror_mode": {
    "name": "ipython",
    "version": 3
   },
   "file_extension": ".py",
   "mimetype": "text/x-python",
   "name": "python",
   "nbconvert_exporter": "python",
   "pygments_lexer": "ipython3",
   "version": "3.8.6"
  }
 },
 "nbformat": 4,
 "nbformat_minor": 4
}
