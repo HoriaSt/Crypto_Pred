{
 "cells": [
  {
   "cell_type": "markdown",
   "metadata": {},
   "source": [
    "## Nomics API\n",
    "\n",
    "#### Attribution as requested:\n",
    "[Crypto Market Cap & Pricing Data Provided By Nomics](https://nomics.com)\n",
    "\n",
    "## Nomics API Python wrapper\n",
    "#### Original author of the library: \n",
    "Taylor Facen\n",
    "\n",
    "Last modified by: Horia Stefan Dinu\n",
    "\n",
    "#### License and copyright:\n",
    "- [MIT License](https://github.com/TaylorFacen/nomics-python/blob/master/LICENSE)\n",
    "\n",
    "- Copyright (c) 2019 The Python Packaging Authority\n"
   ]
  },
  {
   "cell_type": "markdown",
   "metadata": {},
   "source": [
    "#### Loading the API package for Python"
   ]
  },
  {
   "cell_type": "code",
   "execution_count": 2,
   "metadata": {},
   "outputs": [
    {
     "name": "stdout",
     "output_type": "stream",
     "text": [
      "Requirement already satisfied: nomics-python in /opt/conda/lib/python3.8/site-packages (3.1.0)\n",
      "Requirement already satisfied: requests>=2 in /opt/conda/lib/python3.8/site-packages (from nomics-python) (2.24.0)\n",
      "Requirement already satisfied: chardet<4,>=3.0.2 in /opt/conda/lib/python3.8/site-packages (from requests>=2->nomics-python) (3.0.4)\n",
      "Requirement already satisfied: certifi>=2017.4.17 in /opt/conda/lib/python3.8/site-packages (from requests>=2->nomics-python) (2020.6.20)\n",
      "Requirement already satisfied: idna<3,>=2.5 in /opt/conda/lib/python3.8/site-packages (from requests>=2->nomics-python) (2.10)\n",
      "Requirement already satisfied: urllib3!=1.25.0,!=1.25.1,<1.26,>=1.21.1 in /opt/conda/lib/python3.8/site-packages (from requests>=2->nomics-python) (1.25.11)\n"
     ]
    }
   ],
   "source": [
    "# Install a pip package in the current Jupyter kernel\n",
    "import sys\n",
    "!{sys.executable} -m pip install nomics-python"
   ]
  },
  {
   "cell_type": "markdown",
   "metadata": {},
   "source": [
    "#### Starting the api"
   ]
  },
  {
   "cell_type": "code",
   "execution_count": 3,
   "metadata": {},
   "outputs": [],
   "source": [
    "from nomics import Nomics\n",
    "\n",
    "nomics = Nomics(\"3d6fa5cd49600143d1b3953849506bcd\")"
   ]
  },
  {
   "cell_type": "markdown",
   "metadata": {},
   "source": [
    "#### Accessing the endpoint"
   ]
  },
  {
   "cell_type": "code",
   "execution_count": 6,
   "metadata": {},
   "outputs": [],
   "source": [
    "try:\n",
    "    #getting the data\n",
    "    data = nomics.Currencies.get_sparkline(\n",
    "        start = \"2021-01-01T00:00:00Z\",\n",
    "    )#returns a jsonfile\n",
    "    #print(data)\n",
    "except:\n",
    "    # Print the error\n",
    "    print(\"Unexpected error:\", sys.exc_info()[0])"
   ]
  },
  {
   "cell_type": "code",
   "execution_count": 5,
   "metadata": {},
   "outputs": [],
   "source": [
    "try:\n",
    "    # saving to a json file\n",
    "    import json\n",
    "\n",
    "    with open('crypto_data_raw.json', 'w') as fp:\n",
    "        json.dump(data, fp)\n",
    "    #we will pre-process the file in another notebook\n",
    "\n",
    "except:\n",
    "    # Print the error\n",
    "    print(\"Unexpected error:\", sys.exc_info()[0])"
   ]
  }
 ],
 "metadata": {
  "kernelspec": {
   "display_name": "Python 3",
   "language": "python",
   "name": "python3"
  },
  "language_info": {
   "codemirror_mode": {
    "name": "ipython",
    "version": 3
   },
   "file_extension": ".py",
   "mimetype": "text/x-python",
   "name": "python",
   "nbconvert_exporter": "python",
   "pygments_lexer": "ipython3",
   "version": "3.8.6"
  }
 },
 "nbformat": 4,
 "nbformat_minor": 4
}
