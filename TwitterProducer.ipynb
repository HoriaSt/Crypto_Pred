{
 "cells": [
  {
   "cell_type": "markdown",
   "metadata": {},
   "source": [
    "## Twitter Producer\n",
    "\n",
    "**Original Author:** Walker Rowe.<br/>\n",
    "**Additional Info:** Working with Streaming Twitter Data Using Kafka. https://www.bmc.com/blogs/working-streaming-twitter-data-using-kafka/<br/>\n",
    "**Last Modified:** By Sabrina Kirrane on the 12.01.2021.  "
   ]
  },
  {
   "cell_type": "markdown",
   "metadata": {},
   "source": [
    "## Opening a spark session for the accounts"
   ]
  },
  {
   "cell_type": "code",
   "execution_count": 2,
   "metadata": {},
   "outputs": [],
   "source": [
    "# Import the findspark module \n",
    "import findspark\n",
    "\n",
    "# Initialize via the full spark path\n",
    "findspark.init(\"/usr/local/spark/\")"
   ]
  },
  {
   "cell_type": "code",
   "execution_count": 3,
   "metadata": {},
   "outputs": [],
   "source": [
    "# Import the SparkSession module\n",
    "from pyspark.sql import SparkSession\n",
    "\n",
    "# Build the SparkSession\n",
    "spark = SparkSession.builder \\\n",
    "   .master(\"local\") \\\n",
    "   .appName(\"Twitter Stream\") \\\n",
    "   .config(\"spark.executor.memory\", \"1gb\") \\\n",
    "   .getOrCreate()\n",
    "   \n",
    "# Main entry point for Spark functionality. A SparkContext represents the\n",
    "# connection to a Spark cluster, and can be used to create :class:`RDD` and\n",
    "# broadcast variables on that cluster.      \n",
    "sc = spark.sparkContext\n",
    "\n",
    "catalog = spark.catalog"
   ]
  },
  {
   "cell_type": "markdown",
   "metadata": {},
   "source": [
    "## Setting up Kafka & API access"
   ]
  },
  {
   "cell_type": "code",
   "execution_count": 20,
   "metadata": {},
   "outputs": [
    {
     "name": "stdout",
     "output_type": "stream",
     "text": [
      "Requirement already satisfied: tweepy in /opt/conda/lib/python3.8/site-packages (3.9.0)\n",
      "Requirement already satisfied: requests-oauthlib>=0.7.0 in /opt/conda/lib/python3.8/site-packages (from tweepy) (1.3.0)\n",
      "Requirement already satisfied: six>=1.10.0 in /opt/conda/lib/python3.8/site-packages (from tweepy) (1.15.0)\n",
      "Requirement already satisfied: requests[socks]>=2.11.1 in /opt/conda/lib/python3.8/site-packages (from tweepy) (2.24.0)\n",
      "Requirement already satisfied: oauthlib>=3.0.0 in /opt/conda/lib/python3.8/site-packages (from requests-oauthlib>=0.7.0->tweepy) (3.0.1)\n",
      "Requirement already satisfied: chardet<4,>=3.0.2 in /opt/conda/lib/python3.8/site-packages (from requests[socks]>=2.11.1->tweepy) (3.0.4)\n",
      "Requirement already satisfied: idna<3,>=2.5 in /opt/conda/lib/python3.8/site-packages (from requests[socks]>=2.11.1->tweepy) (2.10)\n",
      "Requirement already satisfied: urllib3!=1.25.0,!=1.25.1,<1.26,>=1.21.1 in /opt/conda/lib/python3.8/site-packages (from requests[socks]>=2.11.1->tweepy) (1.25.11)\n",
      "Requirement already satisfied: certifi>=2017.4.17 in /opt/conda/lib/python3.8/site-packages (from requests[socks]>=2.11.1->tweepy) (2020.6.20)\n",
      "Requirement already satisfied: PySocks!=1.5.7,>=1.5.6; extra == \"socks\" in /opt/conda/lib/python3.8/site-packages (from requests[socks]>=2.11.1->tweepy) (1.7.1)\n"
     ]
    }
   ],
   "source": [
    "# Install a pip package in the current Jupyter kernel\n",
    "import sys\n",
    "!{sys.executable} -m pip install tweepy\n",
    "\n",
    "# Install a pip package in the current Jupyter kernel\n",
    "import sys\n",
    "!{sys.executable} -m pip install kafka-python"
   ]
  },
  {
   "cell_type": "code",
   "execution_count": 22,
   "metadata": {},
   "outputs": [],
   "source": [
    "# Import the tweepy and kafka modules \n",
    "from tweepy.streaming import StreamListener\n",
    "from tweepy import OAuthHandler\n",
    "from tweepy import Stream\n",
    "from kafka import KafkaProducer\n",
    "\n",
    "# Setup Twitter access token variables\n",
    "access_token = \"1349835045121503244-D9NGZrufch8UPM3vBLNwyO0N8yUuds\"\n",
    "access_token_secret =  \"vWi3XroqHqZUth075MGAvz5ab68Kfxz49r87cTZ8q1iIT\"\n",
    "consumer_key =  \"0na3Q8ye5OROuiBFLwYGGLtLa\"\n",
    "consumer_secret =  \"UnRQYO9gk0lqvMyHHQOAlBPUVg0QlVigwFdlCokMdXIveNH8FT\""
   ]
  },
  {
   "cell_type": "code",
   "execution_count": 23,
   "metadata": {},
   "outputs": [],
   "source": [
    "# Helper class\n",
    "class StdOutListener(StreamListener):\n",
    "    # Called when raw data is received from connection.\n",
    "    def on_data(self, data):\n",
    "        # Publish a message to a topic.\n",
    "        producer.send(\"Stream_accounts\", data.encode('utf-8'))\n",
    "        # Print out the twitter data (use with caution as it will cause the notebook to become unresponsive)\n",
    "        # print (data)\n",
    "        return True\n",
    "    # Called when a non-200 status code is returned\n",
    "    def on_error(self, status):\n",
    "        # Print the status message\n",
    "        print (status)"
   ]
  },
  {
   "cell_type": "markdown",
   "metadata": {},
   "source": [
    "## Importing and processing the accounts\n",
    "\n",
    "We create a list with the TwitterID of all the people we will follow/pagesin order to get tweets from"
   ]
  },
  {
   "cell_type": "code",
   "execution_count": 4,
   "metadata": {},
   "outputs": [],
   "source": [
    "# Reading the custom csv into a dataframe\n",
    "data = spark.read.csv(\"Data/Follow - Sheet1.csv\", header=True)\n",
    "\n",
    "# Selecting only the TwitterIDs and converting to a list\n",
    "accounts = list(data.select('ID').toPandas()['ID'])"
   ]
  },
  {
   "cell_type": "markdown",
   "metadata": {},
   "source": [
    "## Implementing the Stream"
   ]
  },
  {
   "cell_type": "code",
   "execution_count": 24,
   "metadata": {},
   "outputs": [
    {
     "name": "stdout",
     "output_type": "stream",
     "text": [
      "Unexpected error: <class 'KeyboardInterrupt'>\n"
     ]
    }
   ],
   "source": [
    "# Encapsulate the code in try except blocks\n",
    "try:    \n",
    "    # Publish a message to a topic\n",
    "    producer = KafkaProducer(bootstrap_servers='localhost:9092', api_version=(0,11,5))\n",
    "\n",
    "    # Create a StdOutListener object\n",
    "    l = StdOutListener()\n",
    "\n",
    "    # Create a OAuth authentication handler object\n",
    "    auth = OAuthHandler(consumer_key, consumer_secret)\n",
    "\n",
    "    # Set the tweepy access tokenes\n",
    "    auth.set_access_token(access_token, access_token_secret)\n",
    "    \n",
    "    # Create a Stream object\n",
    "    stream = Stream(auth, l)\n",
    "    \n",
    "    # Filter the stream for all tweets containing the search terms. \n",
    "    stream = stream.filter(follow = accounts, languages = ['en'])\n",
    "\n",
    "except:\n",
    "    #Print the error\n",
    "    print(\"Unexpected error:\", sys.exc_info()[0])"
   ]
  }
 ],
 "metadata": {
  "kernelspec": {
   "display_name": "Python 3",
   "language": "python",
   "name": "python3"
  },
  "language_info": {
   "codemirror_mode": {
    "name": "ipython",
    "version": 3
   },
   "file_extension": ".py",
   "mimetype": "text/x-python",
   "name": "python",
   "nbconvert_exporter": "python",
   "pygments_lexer": "ipython3",
   "version": "3.8.6"
  }
 },
 "nbformat": 4,
 "nbformat_minor": 4
}
